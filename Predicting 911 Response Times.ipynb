{
 "cells": [
  {
   "cell_type": "code",
   "execution_count": 1,
   "metadata": {},
   "outputs": [],
   "source": [
    "import os\n",
    "import numpy as np\n",
    "import pandas as pd\n",
    "import matplotlib.pyplot as plt\n",
    "%matplotlib inline\n",
    "import pandas_profiling\n",
    "import seaborn as sns\n",
    "import missingno as msno\n",
    "pd.set_option('display.max_columns', None)\n",
    "pd.set_option('display.max_rows', None)\n",
    "pd.set_option('display.width', 5000)\n",
    "from datetime import datetime\n",
    "import warnings\n",
    "warnings.filterwarnings(\"ignore\", category=DeprecationWarning)\n",
    "import plotly_express as px\n",
    "\n",
    "#lines below let allow multiple results from a line of code to be shown e.g. df.head() + df.columns\n",
    "from IPython.core.interactiveshell import InteractiveShell\n",
    "InteractiveShell.ast_node_interactivity = \"all\"\n",
    "\n",
    "#displaying numbers instead of scientific notation\n",
    "pd.options.display.float_format = '{:.2f}'.format\n",
    "\n",
    "#modeling\n",
    "from sklearn.model_selection import cross_val_score\n",
    "from sklearn.model_selection import train_test_split\n",
    "from sklearn.ensemble import RandomForestRegressor\n",
    "from sklearn_pandas import DataFrameMapper\n",
    "import lightgbm as lgb\n",
    "from sklearn.model_selection import cross_val_score"
   ]
  },
  {
   "cell_type": "markdown",
   "metadata": {},
   "source": [
    "## Creating a Baseline LightGBM Model"
   ]
  },
  {
   "cell_type": "code",
   "execution_count": 94,
   "metadata": {},
   "outputs": [
    {
     "name": "stdout",
     "output_type": "stream",
     "text": [
      "Scores for Baseline Model\n",
      "R^2                   0.19\n",
      "RMSE                368.38\n",
      "MAE                 239.04\n",
      "TrainingTime(sec)     4.80\n",
      "dtype: float64\n"
     ]
    },
    {
     "data": {
      "image/png": "[encoded data removed]",
      "text/plain": [
       "<Figure size 864x504 with 1 Axes>"
      ]
     },
     "metadata": {
      "needs_background": "light"
     },
     "output_type": "display_data"
    }
   ],
   "source": [
    "#read in data\n",
    "df = pd.read_csv('Call_Data.csv', nrows = 1000000)\n",
    "\n",
    "def clean_df(df):\n",
    "    \n",
    "    #subset the df to include only calls of priority 1\n",
    "    df= df[df['Priority'] == 1]\n",
    "    \n",
    "    #drop the priority column\n",
    "    df = df.drop('Priority', axis = 1)\n",
    "    \n",
    "    #drop nulls\n",
    "    df = df.dropna()\n",
    "    \n",
    "    #lower-case entire dataset\n",
    "    df = df.applymap(lambda s: s.lower() if type(s) == str else s)\n",
    "    \n",
    "    #lower-case column names\n",
    "    df.columns = [c.lower() for c in df.columns]\n",
    "    \n",
    "    #replace space with underbar in columns\n",
    "    df.columns = [c.replace(' ', '_') for c in df.columns]\n",
    "    \n",
    "    #convert que time to datetime\n",
    "    df['original_time_queued'] = pd.to_datetime(df['original_time_queued'])\n",
    "    \n",
    "    #create datetime object from arrived time\n",
    "    df['arrived_time'] = [datetime.strptime(x, \"%b %d %Y %I:%M:%S:%f%p\") for x in df['arrived_time']]\n",
    "    \n",
    "    #engineering target feature response time\n",
    "    df['total_response_time'] = df['arrived_time'] - df['original_time_queued']\n",
    "    \n",
    "    #create response time in seconds\n",
    "    df['total_response_time'] = df['total_response_time'].dt.total_seconds()\n",
    "    \n",
    "    #just drop the response times that are negative\n",
    "    to_drop = df[df['total_response_time'] < 0]\n",
    "\n",
    "    df.drop(to_drop.index, inplace = True)\n",
    "    \n",
    "    #reset the index since we dropped negative response times\n",
    "    df.reset_index(drop = True, inplace = True)\n",
    "    \n",
    "    #outlier function\n",
    "    def z_score_indices_of_outliers(X, threshold=3):\n",
    "        X_mean = np.mean(X)\n",
    "        X_stdev = np.std(X)\n",
    "        z_scores = [(y - X_mean) / X_stdev for y in X]\n",
    "        z_df = pd.DataFrame(z_scores)\n",
    "        pos_outliers = z_df[z_df[0] > 3]\n",
    "        neg_outliers = z_df[z_df[0] < -3]\n",
    "        return pos_outliers; neg_outliers\n",
    "    \n",
    "    #find and remove outliers at 3stds\n",
    "    response_time_outliers = z_score_indices_of_outliers(df['total_response_time'])\n",
    "    \n",
    "    #drop outliers and reset the index again\n",
    "    df = df.drop(response_time_outliers.index).reset_index(drop = True)\n",
    "    \n",
    "    return df\n",
    "    \n",
    "#creating df\n",
    "df = clean_df(df)\n",
    "\n",
    "#create function for scoring model\n",
    "def train_model_get_score(df, model):\n",
    "    \n",
    "    #returning datetime objects to strings for model training\n",
    "    df['arrived_time'] = [datetime.strftime(x, \"%b %d %Y %I:%M:%S:%f%p\") for x in df['arrived_time']]\n",
    "    df['original_time_queued'] = [datetime.strftime(x, \"%b %d %Y %I:%M:%S:%f%p\") for x in df['original_time_queued']]\n",
    "    \n",
    "    #select features and target\n",
    "    features = df.drop(['total_response_time', 'arrived_time'], axis = 1)\n",
    "    labels = df['total_response_time']\n",
    "    \n",
    "    #Label Encoding features\n",
    "    for x in features.columns[features.dtypes == 'object']:\n",
    "        features[x] = features[x].factorize()[0]\n",
    "        \n",
    "    \n",
    "    #split training data into train and test set for validation\n",
    "    X_train, X_test, y_train, y_test = train_test_split(features, labels, test_size = .2, random_state = 49)\n",
    "    \n",
    "    \n",
    "    def get_score(model):\n",
    "\n",
    "        from sklearn.metrics import mean_squared_error, mean_absolute_error\n",
    "        import time\n",
    "\n",
    "        startTime = time.time()  # Getting training time\n",
    "        \n",
    "        # Fits with training set\n",
    "        model.fit(X_train, y_train)\n",
    "        totalTime = time.time() - startTime\n",
    "        predictions = model.predict(X_test)\n",
    "        \n",
    "        r2 = model.score(X_test, y_test)\n",
    "        rmse = np.sqrt(mean_squared_error(y_test, predictions))\n",
    "        mae = mean_absolute_error(y_test, predictions)\n",
    "            \n",
    "        score_results = pd.Series([r2, rmse, mae, totalTime], index=['R^2', 'RMSE', 'MAE', 'TrainingTime(sec)'])\n",
    "        \n",
    "        #plotting feature importances\n",
    "        feature_importances = pd.Series(model.feature_importances_, index=features.columns)\n",
    "        feature_importances.nlargest(20).plot(kind='barh', title = 'Feature Importances for Baseline Model', figsize = (12, 7))\n",
    "        \n",
    "        return score_results\n",
    "    \n",
    "    #get score for model\n",
    "    score = get_score(model)\n",
    "\n",
    "    print('Scores for Baseline Model')\n",
    "\n",
    "    print(f'{score}')\n",
    "\n",
    "#instatiate model and get results\n",
    "model_lgb = lgb.LGBMRegressor(objective='regression',num_leaves=5, learning_rate=0.05, n_estimators=2000, max_bin = 55, bagging_fraction = 0.8,\n",
    "                                  bagging_freq = 5, feature_fraction = 0.2319, feature_fraction_seed=9, bagging_seed=9, min_data_in_leaf =6, \n",
    "                                  min_sum_hessian_in_leaf = 11)\n",
    "\n",
    "#score basline model\n",
    "train_model_get_score(df, model_lgb)"
   ]
  },
  {
   "cell_type": "markdown",
   "metadata": {},
   "source": [
    "## Results\n",
    "- __It appears as though our baseline model can predict response times within 6 minutes for priority 1 calls__"
   ]
  },
  {
   "cell_type": "code",
   "execution_count": 95,
   "metadata": {},
   "outputs": [
    {
     "data": {
      "text/plain": [
       "6.133333333333334"
      ]
     },
     "execution_count": 95,
     "metadata": {},
     "output_type": "execute_result"
    }
   ],
   "source": [
    "368/60"
   ]
  },
  {
   "cell_type": "markdown",
   "metadata": {},
   "source": [
    "# Exploratory Data Analysis\n",
    "- __Now that we have an idea of what our baseline model is, we can start looking into the data and creating a model that may predict more accurately__"
   ]
  },
  {
   "cell_type": "code",
   "execution_count": null,
   "metadata": {},
   "outputs": [],
   "source": []
  }
 ],
 "metadata": {
  "kernelspec": {
   "display_name": "Python 3",
   "language": "python",
   "name": "python3"
  },
  "language_info": {
   "codemirror_mode": {
    "name": "ipython",
    "version": 3
   },
   "file_extension": ".py",
   "mimetype": "text/x-python",
   "name": "python",
   "nbconvert_exporter": "python",
   "pygments_lexer": "ipython3",
   "version": "3.7.3"
  }
 },
 "nbformat": 4,
 "nbformat_minor": 4
}
